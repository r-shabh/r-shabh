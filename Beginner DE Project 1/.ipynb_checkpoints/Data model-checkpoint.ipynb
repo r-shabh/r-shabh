{
 "cells": [
  {
   "cell_type": "code",
   "execution_count": 41,
   "id": "ecc914c1",
   "metadata": {},
   "outputs": [],
   "source": [
    "import psycopg2\n",
    "import pandas as pd"
   ]
  },
  {
   "cell_type": "code",
   "execution_count": 42,
   "id": "0e948e73",
   "metadata": {},
   "outputs": [],
   "source": [
    "def create_database():\n",
    "    conn = psycopg2.connect(\"host=127.0.0.1 dbname=postgres user=postgres password=root\")\n",
    "    conn.set_session(autocommit=True)\n",
    "    cur = conn.cursor()\n",
    "    \n",
    "    cur.execute('DROP DATABASE IF EXISTS food')\n",
    "    cur.execute('CREATE DATABASE food')\n",
    "    \n",
    "    conn.close()\n",
    "    \n",
    "    conn = psycopg2.connect(\"host=127.0.0.1 dbname=food user=postgres password=root\")\n",
    "    cur = conn.cursor()\n",
    "    \n",
    "    return cur,conn"
   ]
  },
  {
   "cell_type": "code",
   "execution_count": null,
   "id": "88aa4f54",
   "metadata": {},
   "outputs": [],
   "source": [
    "def drop_table():\n",
    "    for query in drop_tables_queries:\n",
    "        cur.execute(query)\n",
    "        conn.commit()"
   ]
  },
  {
   "cell_type": "code",
   "execution_count": null,
   "id": "9db3e2c4",
   "metadata": {},
   "outputs": [],
   "source": [
    "def create_tables(curr,conn):\n",
    "    for query in create_tables_queries:\n",
    "        cur.execute(query)\n",
    "        conn.commit()"
   ]
  },
  {
   "cell_type": "code",
   "execution_count": 38,
   "id": "4e1fd2c8",
   "metadata": {},
   "outputs": [
    {
     "data": {
      "text/html": [
       "<div>\n",
       "<style scoped>\n",
       "    .dataframe tbody tr th:only-of-type {\n",
       "        vertical-align: middle;\n",
       "    }\n",
       "\n",
       "    .dataframe tbody tr th {\n",
       "        vertical-align: top;\n",
       "    }\n",
       "\n",
       "    .dataframe thead th {\n",
       "        text-align: right;\n",
       "    }\n",
       "</style>\n",
       "<table border=\"1\" class=\"dataframe\">\n",
       "  <thead>\n",
       "    <tr style=\"text-align: right;\">\n",
       "      <th></th>\n",
       "      <th>food_nutrient_conversion_factor_id</th>\n",
       "      <th>protein_value</th>\n",
       "      <th>fat_value</th>\n",
       "      <th>carbohydrate_value</th>\n",
       "    </tr>\n",
       "  </thead>\n",
       "  <tbody>\n",
       "    <tr>\n",
       "      <th>0</th>\n",
       "      <td>22503</td>\n",
       "      <td>3.47</td>\n",
       "      <td>8.37</td>\n",
       "      <td>4.07</td>\n",
       "    </tr>\n",
       "    <tr>\n",
       "      <th>1</th>\n",
       "      <td>22505</td>\n",
       "      <td>4.27</td>\n",
       "      <td>8.79</td>\n",
       "      <td>3.87</td>\n",
       "    </tr>\n",
       "    <tr>\n",
       "      <th>2</th>\n",
       "      <td>22507</td>\n",
       "      <td>2.44</td>\n",
       "      <td>8.37</td>\n",
       "      <td>3.57</td>\n",
       "    </tr>\n",
       "    <tr>\n",
       "      <th>3</th>\n",
       "      <td>22510</td>\n",
       "      <td>2.44</td>\n",
       "      <td>8.37</td>\n",
       "      <td>3.57</td>\n",
       "    </tr>\n",
       "    <tr>\n",
       "      <th>4</th>\n",
       "      <td>22512</td>\n",
       "      <td>2.44</td>\n",
       "      <td>8.37</td>\n",
       "      <td>3.57</td>\n",
       "    </tr>\n",
       "  </tbody>\n",
       "</table>\n",
       "</div>"
      ],
      "text/plain": [
       "   food_nutrient_conversion_factor_id  protein_value  fat_value  \\\n",
       "0                               22503           3.47       8.37   \n",
       "1                               22505           4.27       8.79   \n",
       "2                               22507           2.44       8.37   \n",
       "3                               22510           2.44       8.37   \n",
       "4                               22512           2.44       8.37   \n",
       "\n",
       "   carbohydrate_value  \n",
       "0                4.07  \n",
       "1                3.87  \n",
       "2                3.57  \n",
       "3                3.57  \n",
       "4                3.57  "
      ]
     },
     "execution_count": 38,
     "metadata": {},
     "output_type": "execute_result"
    }
   ],
   "source": [
    "df=pd.read_csv('Data/food_data/food.csv')\n",
    "df2=pd.read_csv('Data/food_data/food_nutrient_conversion_factor.csv')\n",
    "df3=pd.read_csv('Data/food_data/food_calorie_conversion_factor.csv')\n",
    "df3.head()"
   ]
  },
  {
   "cell_type": "code",
   "execution_count": 61,
   "id": "1d29bcdc",
   "metadata": {},
   "outputs": [],
   "source": [
    "food=df[['fdc_id','data_type','description']]\n",
    "nutrients=df2\n",
    "calorie=df3"
   ]
  },
  {
   "cell_type": "code",
   "execution_count": 68,
   "id": "bf428c71",
   "metadata": {},
   "outputs": [
    {
     "name": "stdout",
     "output_type": "stream",
     "text": [
      "<class 'pandas.core.frame.DataFrame'>\n",
      "RangeIndex: 35378 entries, 0 to 35377\n",
      "Data columns (total 3 columns):\n",
      " #   Column       Non-Null Count  Dtype \n",
      "---  ------       --------------  ----- \n",
      " 0   fdc_id       35378 non-null  int64 \n",
      " 1   data_type    35378 non-null  object\n",
      " 2   description  35370 non-null  object\n",
      "dtypes: int64(1), object(2)\n",
      "memory usage: 829.3+ KB\n"
     ]
    }
   ],
   "source": [
    "food.info()"
   ]
  },
  {
   "cell_type": "code",
   "execution_count": 43,
   "id": "a2059a21",
   "metadata": {},
   "outputs": [],
   "source": [
    "cur,conn = create_database();"
   ]
  },
  {
   "cell_type": "code",
   "execution_count": 49,
   "id": "209664fe",
   "metadata": {},
   "outputs": [],
   "source": [
    "create_table_food=(\"\"\"CREATE TABLE IF NOT EXISTS food(\n",
    "fdc_id INTEGER PRIMARY KEY,\n",
    "data_type VARCHAR,\n",
    "description VARCHAR\n",
    ")\"\"\")\n",
    "\n",
    "create_table_nutrient=(\"\"\"CREATE TABLE IF NOT EXISTS nutrients(\n",
    "nutrients_id INTEGER PRIMARY KEY,\n",
    "fdc_id INTEGER\n",
    ")\"\"\")\n",
    "\n",
    "\n",
    "create_table_calorie=(\"\"\"CREATE TABLE IF NOT EXISTS calorie(\n",
    "nutrients_id INTEGER PRIMARY KEY,\n",
    "protein_value INTEGER,\n",
    "fat_value VARCHAR,\n",
    "carbohydrate_value VARCHAR\n",
    ")\"\"\")"
   ]
  },
  {
   "cell_type": "code",
   "execution_count": 55,
   "id": "aa3b5b3e",
   "metadata": {},
   "outputs": [],
   "source": [
    "cur.execute(create_table_calorie)\n",
    "conn.commit()"
   ]
  },
  {
   "cell_type": "code",
   "execution_count": 60,
   "id": "6e7a9101",
   "metadata": {},
   "outputs": [],
   "source": [
    "insert_table_food=(\"\"\"INSERT INTO food(\n",
    "fdc_id,\n",
    "data_type,\n",
    "description)\n",
    "VALUES (%s, %s, %s)\n",
    "\"\"\")\n",
    "\n",
    "insert_table_nutrient=(\"\"\"INSERT INTO nutrients(\n",
    "nutrients_id,\n",
    "fdc_id)\n",
    "VALUES (%s, %s)\n",
    "\"\"\")\n",
    "\n",
    "\n",
    "insert_table_calorie=(\"\"\"INSERT INTO calorie(\n",
    "nutrients_id,\n",
    "protein_value,\n",
    "fat_value,\n",
    "carbohydrate_value)\n",
    "VALUES (%s, %s, %s, %s)\n",
    "\"\"\")"
   ]
  },
  {
   "cell_type": "code",
   "execution_count": 62,
   "id": "da223d7e",
   "metadata": {},
   "outputs": [],
   "source": [
    "for i, row in food.iterrows():\n",
    "    cur.execute(insert_table_food,list(row))"
   ]
  },
  {
   "cell_type": "code",
   "execution_count": 69,
   "id": "08133c3f",
   "metadata": {},
   "outputs": [],
   "source": [
    "conn.commit();"
   ]
  },
  {
   "cell_type": "code",
   "execution_count": 70,
   "id": "e7504d9f",
   "metadata": {},
   "outputs": [],
   "source": [
    "for i, row in nutrient.iterrows():\n",
    "    cur.execute(insert_table_nutrient,list(row))"
   ]
  },
  {
   "cell_type": "code",
   "execution_count": 71,
   "id": "50618fdc",
   "metadata": {},
   "outputs": [],
   "source": [
    "conn.commit();"
   ]
  },
  {
   "cell_type": "code",
   "execution_count": 72,
   "id": "97766d06",
   "metadata": {},
   "outputs": [],
   "source": [
    "for i, row in calorie.iterrows():\n",
    "    cur.execute(insert_table_calorie,list(row))"
   ]
  },
  {
   "cell_type": "code",
   "execution_count": 74,
   "id": "2aea6792",
   "metadata": {},
   "outputs": [],
   "source": [
    "cur"
   ]
  },
  {
   "cell_type": "code",
   "execution_count": null,
   "id": "c517a04f",
   "metadata": {},
   "outputs": [],
   "source": []
  },
  {
   "cell_type": "code",
   "execution_count": 85,
   "id": "8d097764",
   "metadata": {},
   "outputs": [],
   "source": [
    "alter_foreignkey = (\"\"\"ALTER TABLE nutrients\n",
    "    ADD CONSTRAINT fk_nutrients_fdcid FOREIGN KEY (fdc_id) REFERENCES food (fdc_id)\"\"\")"
   ]
  },
  {
   "cell_type": "code",
   "execution_count": 83,
   "id": "6f72e067",
   "metadata": {},
   "outputs": [],
   "source": [
    "cur.execute(alter_foreignkey)"
   ]
  },
  {
   "cell_type": "code",
   "execution_count": 86,
   "id": "5cd32427",
   "metadata": {},
   "outputs": [],
   "source": [
    "alter_foreignkey1 = (\"\"\"ALTER TABLE calorie\n",
    "    ADD CONSTRAINT fk_calorie_nutrientid FOREIGN KEY (nutrients_id) REFERENCES nutrients (nutrients_id)\"\"\")"
   ]
  },
  {
   "cell_type": "code",
   "execution_count": 87,
   "id": "2a38cd46",
   "metadata": {},
   "outputs": [],
   "source": [
    "cur.execute(alter_foreignkey1)"
   ]
  },
  {
   "cell_type": "code",
   "execution_count": null,
   "id": "9ecadd36",
   "metadata": {},
   "outputs": [],
   "source": []
  }
 ],
 "metadata": {
  "kernelspec": {
   "display_name": "Python 3",
   "language": "python",
   "name": "python3"
  },
  "language_info": {
   "codemirror_mode": {
    "name": "ipython",
    "version": 3
   },
   "file_extension": ".py",
   "mimetype": "text/x-python",
   "name": "python",
   "nbconvert_exporter": "python",
   "pygments_lexer": "ipython3",
   "version": "3.8.8"
  }
 },
 "nbformat": 4,
 "nbformat_minor": 5
}
